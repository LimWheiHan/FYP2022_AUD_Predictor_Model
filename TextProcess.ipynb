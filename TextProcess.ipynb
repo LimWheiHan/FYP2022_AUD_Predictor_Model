{
 "cells": [
  {
   "cell_type": "code",
   "execution_count": 1,
   "metadata": {},
   "outputs": [],
   "source": [
    "#Libraries used\n",
    "import pandas as pd\n",
    "import numpy as np\n",
    "import fileinput\n",
    "import time\n",
    "import re\n",
    "import string\n",
    "import pickle\n",
    "import warnings\n",
    "warnings.filterwarnings(\"ignore\", category=FutureWarning)\n",
    "\n",
    "import matplotlib.pyplot as plt\n",
    "from matplotlib.backends.backend_agg import FigureCanvasAgg as FigureCanvas\n",
    "\n",
    "from nltk.corpus import stopwords\n",
    "from nltk.stem import PorterStemmer\n",
    "from nltk.tokenize import word_tokenize\n",
    "from nltk.stem import WordNetLemmatizer\n",
    "from nltk import tokenize\n",
    "\n",
    "from textblob import TextBlob\n",
    "\n",
    "import scipy\n",
    "from scipy.stats import uniform\n",
    "\n",
    "#import sklearn\n",
    "from sklearn.model_selection import train_test_split\n",
    "from sklearn.feature_extraction.text import TfidfVectorizer\n",
    "from sklearn.feature_extraction.text import CountVectorizer\n",
    "from sklearn.linear_model import LogisticRegression\n",
    "from sklearn.naive_bayes import MultinomialNB\n",
    "from sklearn.tree import DecisionTreeClassifier\n",
    "from sklearn.svm import LinearSVC\n",
    "from sklearn.metrics import classification_report, confusion_matrix, accuracy_score\n",
    "from sklearn.model_selection import GridSearchCV, RandomizedSearchCV\n",
    "\n",
    "\n",
    "from imblearn.over_sampling import SMOTE\n",
    "\n",
    "stopwords = stopwords.words(\"english\")\n",
    "lemmatizer = WordNetLemmatizer()\n",
    "w_tokenizer = tokenize.WhitespaceTokenizer()\n",
    "\n",
    "# Remove newline\n",
    "def remove_nline(value):\n",
    "    return ''.join(str(value).splitlines())\n",
    "\n",
    "def lemmatize_text(text):\n",
    "    return ' '.join([lemmatizer.lemmatize(w) for w in w_tokenizer.tokenize(text) if not w in set(stopwords)])"
   ]
  },
  {
   "attachments": {},
   "cell_type": "markdown",
   "metadata": {},
   "source": [
    "# Load the Dataset"
   ]
  },
  {
   "cell_type": "code",
   "execution_count": 3,
   "metadata": {},
   "outputs": [
    {
     "name": "stdout",
     "output_type": "stream",
     "text": [
      "<class 'pandas.core.frame.DataFrame'>\n",
      "RangeIndex: 4943 entries, 0 to 4942\n",
      "Data columns (total 13 columns):\n",
      " #   Column                Non-Null Count  Dtype  \n",
      "---  ------                --------------  -----  \n",
      " 0   subreddit             4943 non-null   object \n",
      " 1   title                 4943 non-null   object \n",
      " 2   selftext              3913 non-null   object \n",
      " 3   upvote_ratio          4943 non-null   float64\n",
      " 4   author                4943 non-null   object \n",
      " 5    author_flair_text    1411 non-null   object \n",
      " 6   ups                   4943 non-null   int64  \n",
      " 7   downs                 4943 non-null   int64  \n",
      " 8   score                 4943 non-null   int64  \n",
      " 9   kind                  4943 non-null   object \n",
      " 10  id                    4943 non-null   object \n",
      " 11  link_flair_css_class  1709 non-null   object \n",
      " 12  created_utc           4943 non-null   object \n",
      "dtypes: float64(1), int64(3), object(9)\n",
      "memory usage: 502.1+ KB\n"
     ]
    }
   ],
   "source": [
    "data = pd.read_excel('raw_new_posts_from_SD.xlsx')\n",
    "data.info()"
   ]
  },
  {
   "attachments": {},
   "cell_type": "markdown",
   "metadata": {},
   "source": [
    "# Preprocess Dataset"
   ]
  },
  {
   "cell_type": "code",
   "execution_count": 4,
   "metadata": {},
   "outputs": [
    {
     "name": "stderr",
     "output_type": "stream",
     "text": [
      "C:\\Users\\User\\AppData\\Local\\Temp\\ipykernel_14268\\2810795996.py:13: SettingWithCopyWarning: \n",
      "A value is trying to be set on a copy of a slice from a DataFrame.\n",
      "Try using .loc[row_indexer,col_indexer] = value instead\n",
      "\n",
      "See the caveats in the documentation: https://pandas.pydata.org/pandas-docs/stable/user_guide/indexing.html#returning-a-view-versus-a-copy\n",
      "  testdf['selftext'] = testdf['title'] + \" \" +testdf['selftext']\n",
      "C:\\Users\\User\\AppData\\Local\\Temp\\ipykernel_14268\\2810795996.py:14: SettingWithCopyWarning: \n",
      "A value is trying to be set on a copy of a slice from a DataFrame.\n",
      "Try using .loc[row_indexer,col_indexer] = value instead\n",
      "\n",
      "See the caveats in the documentation: https://pandas.pydata.org/pandas-docs/stable/user_guide/indexing.html#returning-a-view-versus-a-copy\n",
      "  testdf['selftext'] = [remove_nline(i) for i in testdf['selftext']]\n",
      "C:\\Users\\User\\AppData\\Local\\Temp\\ipykernel_14268\\2810795996.py:17: SettingWithCopyWarning: \n",
      "A value is trying to be set on a copy of a slice from a DataFrame.\n",
      "Try using .loc[row_indexer,col_indexer] = value instead\n",
      "\n",
      "See the caveats in the documentation: https://pandas.pydata.org/pandas-docs/stable/user_guide/indexing.html#returning-a-view-versus-a-copy\n",
      "  testdf[\"selftext\"]: list[str] = [str(x).translate(str.maketrans('', '', '\"#$%&\\()*+-/:;<=>@[\\\\]^_`{|}~')) for x in testdf[\"selftext\"]]\n",
      "C:\\Users\\User\\AppData\\Local\\Temp\\ipykernel_14268\\2810795996.py:20: SettingWithCopyWarning: \n",
      "A value is trying to be set on a copy of a slice from a DataFrame.\n",
      "Try using .loc[row_indexer,col_indexer] = value instead\n",
      "\n",
      "See the caveats in the documentation: https://pandas.pydata.org/pandas-docs/stable/user_guide/indexing.html#returning-a-view-versus-a-copy\n",
      "  testdf['s_selftext'] = [tokenize.sent_tokenize(str(i), language=\"english\") for i in testdf['selftext']]\n"
     ]
    }
   ],
   "source": [
    "#Create Alcoholic Post & Label as 1\n",
    "\n",
    "df = data\n",
    "df[\" author_flair_text\"] = data[\" author_flair_text\"].replace(\"\\sdays||\\sday\",\"\",regex=True)\n",
    "\n",
    "#Convert badge to float dtype\n",
    "df = df.astype({\" author_flair_text\": 'float32'})\n",
    "\n",
    "#If get post from SD subreddit and has abstained for less than a year\n",
    "testdf= df[(df['subreddit'] == 'stopdrinking') & (df[' author_flair_text'] <= 365)]\n",
    "\n",
    "#Combine title and post\n",
    "testdf['selftext'] = testdf['title'] + \" \" +testdf['selftext']\n",
    "testdf['selftext'] = [remove_nline(i) for i in testdf['selftext']]\n",
    "\n",
    "# Remove most punctuations except !?,.' , these are needed for sentence spliting\n",
    "testdf[\"selftext\"]: list[str] = [str(x).translate(str.maketrans('', '', '\"#$%&\\()*+-/:;<=>@[\\\\]^_`{|}~')) for x in testdf[\"selftext\"]]\n",
    "\n",
    "#Break posts into list of sentences, cannot use \"post\" since it removes punctuation \n",
    "testdf['s_selftext'] = [tokenize.sent_tokenize(str(i), language=\"english\") for i in testdf['selftext']]\n",
    "\n",
    "# Create observations for each sentence\n",
    "newtestdf = testdf.explode('s_selftext') \n",
    "\n",
    "#Get subjectivity score for each sentence\n",
    "newtestdf['subjectivity'] = [TextBlob(str(i)).sentiment.subjectivity for i in newtestdf['s_selftext']]\n",
    "\n",
    "\n",
    "#new rows of labels split by sentences and calculate their subjectivity\n",
    "cols = ['subreddit', 's_selftext', 'subjectivity']\n",
    "target_df = newtestdf[cols]\n",
    "\n",
    "#Only use post where subjectivity is more than 0.1\n",
    "target_df= target_df[target_df['subjectivity'] >= 0.1]\n",
    "\n",
    "# Label alcolic post as 1\n",
    "target_df['label'] = 1"
   ]
  },
  {
   "cell_type": "code",
   "execution_count": 5,
   "metadata": {},
   "outputs": [
    {
     "name": "stderr",
     "output_type": "stream",
     "text": [
      "C:\\Users\\User\\AppData\\Local\\Temp\\ipykernel_14268\\925545516.py:15: SettingWithCopyWarning: \n",
      "A value is trying to be set on a copy of a slice from a DataFrame.\n",
      "Try using .loc[row_indexer,col_indexer] = value instead\n",
      "\n",
      "See the caveats in the documentation: https://pandas.pydata.org/pandas-docs/stable/user_guide/indexing.html#returning-a-view-versus-a-copy\n",
      "  ntestdf['selftext'] = ntestdf['title'] + \" \" +ntestdf['selftext']\n",
      "C:\\Users\\User\\AppData\\Local\\Temp\\ipykernel_14268\\925545516.py:16: SettingWithCopyWarning: \n",
      "A value is trying to be set on a copy of a slice from a DataFrame.\n",
      "Try using .loc[row_indexer,col_indexer] = value instead\n",
      "\n",
      "See the caveats in the documentation: https://pandas.pydata.org/pandas-docs/stable/user_guide/indexing.html#returning-a-view-versus-a-copy\n",
      "  ntestdf['selftext'] = [remove_nline(i) for i in ntestdf['selftext']]\n",
      "C:\\Users\\User\\AppData\\Local\\Temp\\ipykernel_14268\\925545516.py:19: SettingWithCopyWarning: \n",
      "A value is trying to be set on a copy of a slice from a DataFrame.\n",
      "Try using .loc[row_indexer,col_indexer] = value instead\n",
      "\n",
      "See the caveats in the documentation: https://pandas.pydata.org/pandas-docs/stable/user_guide/indexing.html#returning-a-view-versus-a-copy\n",
      "  ntestdf[\"selftext\"]: list[str] = [str(x).translate(str.maketrans('', '', '\"#$%&\\()*+-/:;<=>@[\\\\]^_`{|}~')) for x in ntestdf[\"selftext\"]]\n",
      "C:\\Users\\User\\AppData\\Local\\Temp\\ipykernel_14268\\925545516.py:22: SettingWithCopyWarning: \n",
      "A value is trying to be set on a copy of a slice from a DataFrame.\n",
      "Try using .loc[row_indexer,col_indexer] = value instead\n",
      "\n",
      "See the caveats in the documentation: https://pandas.pydata.org/pandas-docs/stable/user_guide/indexing.html#returning-a-view-versus-a-copy\n",
      "  ntestdf['s_selftext'] = [tokenize.sent_tokenize(str(i), language=\"english\") for i in ntestdf['selftext']]\n"
     ]
    }
   ],
   "source": [
    "#Create Non-Alcoholic Post & Label as 0\n",
    "\n",
    "\n",
    "df = data\n",
    "df[\" author_flair_text\"] = data[\" author_flair_text\"].replace(\"\\sdays||\\sday\",\"\",regex=True)\n",
    "\n",
    "#Convert badge to float dtype\n",
    "df = df.astype({\" author_flair_text\": 'float32'})\n",
    "\n",
    "#Create subset data for non target\n",
    "ntestdf= df[(df['subreddit'] != 'stopdrinking') | ((df[' author_flair_text'] >= 365) & (df['subreddit'] == 'stopdrinking') )]\n",
    "\n",
    " \n",
    "#Combine title and post\n",
    "ntestdf['selftext'] = ntestdf['title'] + \" \" +ntestdf['selftext']\n",
    "ntestdf['selftext'] = [remove_nline(i) for i in ntestdf['selftext']]\n",
    "\n",
    "# Remove most punctuations except !?,.', these are needed for sentence spliting\n",
    "ntestdf[\"selftext\"]: list[str] = [str(x).translate(str.maketrans('', '', '\"#$%&\\()*+-/:;<=>@[\\\\]^_`{|}~')) for x in ntestdf[\"selftext\"]]\n",
    "\n",
    "#Break posts into list of sentences, cannot use \"post\" since it removes punctuation \n",
    "ntestdf['s_selftext'] = [tokenize.sent_tokenize(str(i), language=\"english\") for i in ntestdf['selftext']]\n",
    "\n",
    "# Create observations for each sentence\n",
    "nnewtestdf = ntestdf.explode('s_selftext') \n",
    "\n",
    "#Get subjectivity score\n",
    "nnewtestdf['subjectivity'] = [TextBlob(str(i)).sentiment.subjectivity for i in nnewtestdf['s_selftext']]\n",
    "\n",
    "\n",
    "#new rows of labels split by sentences and calculate their subjectivity\n",
    "cols = ['subreddit', 's_selftext', 'subjectivity']\n",
    "ntarget_df = nnewtestdf[cols]\n",
    "\n",
    "#Only use post where subjectivity is more than 0.1\n",
    "ntarget_df= ntarget_df[ntarget_df['subjectivity'] >= 0.1]\n",
    "\n",
    "# Label alcolic post as 1\n",
    "ntarget_df['label'] = 0"
   ]
  },
  {
   "cell_type": "code",
   "execution_count": 6,
   "metadata": {},
   "outputs": [],
   "source": [
    "#Combining labels into input\n",
    "frames = [target_df,ntarget_df]\n",
    "\n",
    "input = pd.concat(frames)"
   ]
  },
  {
   "cell_type": "code",
   "execution_count": 7,
   "metadata": {},
   "outputs": [],
   "source": [
    "input['s_selftext'] = input['s_selftext'].apply(str.lower)\n",
    "\n",
    "# Remove all punction\n",
    "input['s_selftext']: list[str] = [re.sub('[^a-zA-Z]', ' ', x) for x in input['s_selftext']]\n",
    "\n",
    "#Lemmatize post \n",
    "input['lemmatized_text'] = input.s_selftext.apply(lemmatize_text)\n",
    "\n",
    "X = input['lemmatized_text']\n",
    "Y = input['label']\n",
    "\n",
    "# Stratify the split by the target label so that both sets have the balanced cases of both labels\n",
    "train_X, test_X, train_Y, test_Y = train_test_split(X, Y, test_size=0.25, random_state=0, stratify=Y)"
   ]
  },
  {
   "cell_type": "code",
   "execution_count": 8,
   "metadata": {},
   "outputs": [
    {
     "name": "stdout",
     "output_type": "stream",
     "text": [
      "Alcoholic post: 6769\n",
      " Non-Alcoholic post: 6630\n"
     ]
    }
   ],
   "source": [
    "print(\"Alcoholic post: {alcoholic}\\n Non-Alcoholic post: {nalcoholic}\".format(alcoholic=len(input[input['label'] == 1]), nalcoholic=len(input[input['label'] == 0])))"
   ]
  },
  {
   "attachments": {},
   "cell_type": "markdown",
   "metadata": {},
   "source": [
    "# Feature Extracting using TF IDF Vectorizer\n",
    "https://www.analyticsvidhya.com/blog/2021/09/creating-a-movie-reviews-classifier-using-tf-idf-in-python/"
   ]
  },
  {
   "cell_type": "code",
   "execution_count": 9,
   "metadata": {},
   "outputs": [
    {
     "name": "stdout",
     "output_type": "stream",
     "text": [
      "n_samples: 10049, n_features: 159796\n"
     ]
    }
   ],
   "source": [
    "#tf idf\n",
    "tf_idf = TfidfVectorizer(ngram_range = (1,3), analyzer='word')\n",
    "#applying tf idf to training data. Learn vocabulary and idf, return document-term matrix.\n",
    "X_train_tf = tf_idf.fit_transform(train_X)\n",
    "#applying tf idf to training data Transform documents to document-term matrix.\n",
    "#Uses the vocabulary and document frequencies (df) learned by fit (or fit_transform).\n",
    "X_train_tf = tf_idf.transform(train_X)\n",
    "\n",
    "print(\"n_samples: %d, n_features: %d\" % X_train_tf.shape)"
   ]
  },
  {
   "cell_type": "code",
   "execution_count": 9,
   "metadata": {},
   "outputs": [],
   "source": [
    "with open('TFIDF.pkl', 'wb') as file:\n",
    "    pickle.dump(tf_idf, file)"
   ]
  },
  {
   "cell_type": "code",
   "execution_count": 10,
   "metadata": {},
   "outputs": [
    {
     "name": "stdout",
     "output_type": "stream",
     "text": [
      "n_samples: 3350, n_features: 159796\n"
     ]
    }
   ],
   "source": [
    "#transforming test data into tf-idf matrix\n",
    "X_test_tf = tf_idf.transform(test_X)\n",
    "print(\"n_samples: %d, n_features: %d\" % X_test_tf.shape)"
   ]
  },
  {
   "attachments": {},
   "cell_type": "markdown",
   "metadata": {},
   "source": [
    "# SMOTE Oversampling (Not neccessary now, since have balanced target label cases)"
   ]
  },
  {
   "cell_type": "code",
   "execution_count": 8,
   "metadata": {},
   "outputs": [
    {
     "name": "stdout",
     "output_type": "stream",
     "text": [
      "Before OverSampling, TRAIN counts of label '1': 2245\n",
      "Before OverSampling, TRAIN counts of label '0': 689 \n",
      "\n",
      "Before OverSampling, TEST counts of label '1': 749\n",
      "Before OverSampling, TEST counts of label '0': 230 \n",
      "\n",
      "After OverSampling, the shape of train_X: (4490, 509945)\n",
      "After OverSampling, the shape of train_y: (4490,) \n",
      "\n",
      "After OverSampling, TRAIN counts of label '1': 2245\n",
      "After OverSampling, TRAIN counts of label '0': 2245\n",
      "After OverSampling, TEST counts of label '1': 749\n",
      "After OverSampling, TEST counts of label '0': 230\n"
     ]
    }
   ],
   "source": [
    "print(\"Before OverSampling, TRAIN counts of label '1': {}\".format(sum(train_Y == 1)))\n",
    "print(\"Before OverSampling, TRAIN counts of label '0': {} \\n\".format(sum(train_Y == 0)))\n",
    "\n",
    "print(\"Before OverSampling, TEST counts of label '1': {}\".format(sum(test_Y == 1)))\n",
    "print(\"Before OverSampling, TEST counts of label '0': {} \\n\".format(sum(test_Y == 0)))\n",
    "\n",
    "sm = SMOTE(random_state = 2)\n",
    "X_train_tf, train_Y = sm.fit_resample(X_train_tf, train_Y.ravel())\n",
    "\n",
    "#X_test_tf, test_Y = sm.fit_resample(X_test_tf, test_Y.ravel())\n",
    "\n",
    "\n",
    "print('After OverSampling, the shape of train_X: {}'.format(X_train_tf.shape))\n",
    "print('After OverSampling, the shape of train_y: {} \\n'.format(train_Y.shape))\n",
    "\n",
    "print(\"After OverSampling, TRAIN counts of label '1': {}\".format(sum(train_Y == 1)))\n",
    "print(\"After OverSampling, TRAIN counts of label '0': {}\".format(sum(train_Y == 0)))\n",
    "\n",
    "print(\"After OverSampling, TEST counts of label '1': {}\".format(sum(test_Y == 1)))\n",
    "print(\"After OverSampling, TEST counts of label '0': {}\".format(sum(test_Y == 0)))"
   ]
  },
  {
   "attachments": {},
   "cell_type": "markdown",
   "metadata": {},
   "source": [
    "# Naive Bayes Classifier"
   ]
  },
  {
   "cell_type": "code",
   "execution_count": 11,
   "metadata": {},
   "outputs": [
    {
     "name": "stdout",
     "output_type": "stream",
     "text": [
      "                precision    recall  f1-score   support\n",
      "\n",
      "Recent Relapse       0.75      0.64      0.69      1658\n",
      "   Not Relapse       0.69      0.80      0.74      1692\n",
      "\n",
      "      accuracy                           0.72      3350\n",
      "     macro avg       0.72      0.72      0.72      3350\n",
      "  weighted avg       0.72      0.72      0.72      3350\n",
      "\n",
      "\n",
      "Confusion matrix:\n",
      " True Pos \t False Pos\n",
      " False Neg\t True Neg\n",
      "[[1059  599]\n",
      " [ 346 1346]]\n",
      "0.7179104477611941\n"
     ]
    }
   ],
   "source": [
    "naive_bayes_classifier = MultinomialNB()\n",
    "naive_bayes_classifier.fit(X_train_tf, train_Y)\n",
    "\n",
    "#predicted y\n",
    "y_pred = naive_bayes_classifier.predict(X_test_tf)\n",
    "\n",
    "print(classification_report(test_Y, y_pred, target_names=['Recent Relapse', 'Not Relapse']))\n",
    "\n",
    "print('\\nConfusion matrix:\\n True Pos \\t False Pos\\n False Neg\\t True Neg')\n",
    "print(confusion_matrix(test_Y, y_pred))\n",
    "\n",
    "print(accuracy_score(test_Y, y_pred))"
   ]
  },
  {
   "cell_type": "code",
   "execution_count": 12,
   "metadata": {},
   "outputs": [
    {
     "name": "stdout",
     "output_type": "stream",
     "text": [
      "Tuned hyperparameter : (Best params) {'alpha': 1.0}\n",
      "Tuned hyperparameter : (Best score/accuracy) 0.7136037086840561\n"
     ]
    },
    {
     "name": "stderr",
     "output_type": "stream",
     "text": [
      "d:\\Python\\lib\\site-packages\\sklearn\\naive_bayes.py:633: UserWarning: alpha too small will result in numeric errors, setting alpha = 1.0e-10. Use `force_alpha=True` to keep alpha unchanged.\n",
      "  warnings.warn(\n",
      "d:\\Python\\lib\\site-packages\\sklearn\\naive_bayes.py:633: UserWarning: alpha too small will result in numeric errors, setting alpha = 1.0e-10. Use `force_alpha=True` to keep alpha unchanged.\n",
      "  warnings.warn(\n",
      "d:\\Python\\lib\\site-packages\\sklearn\\naive_bayes.py:633: UserWarning: alpha too small will result in numeric errors, setting alpha = 1.0e-10. Use `force_alpha=True` to keep alpha unchanged.\n",
      "  warnings.warn(\n",
      "d:\\Python\\lib\\site-packages\\sklearn\\naive_bayes.py:633: UserWarning: alpha too small will result in numeric errors, setting alpha = 1.0e-10. Use `force_alpha=True` to keep alpha unchanged.\n",
      "  warnings.warn(\n",
      "d:\\Python\\lib\\site-packages\\sklearn\\naive_bayes.py:633: UserWarning: alpha too small will result in numeric errors, setting alpha = 1.0e-10. Use `force_alpha=True` to keep alpha unchanged.\n",
      "  warnings.warn(\n"
     ]
    }
   ],
   "source": [
    "C = np.array([50,10,1,0.1,0.01,0.001,0.0001,0])\n",
    "\n",
    "params ={\n",
    "    \"alpha\": C\n",
    "}\n",
    "grid = GridSearchCV(naive_bayes_classifier, params)\n",
    "\n",
    "grid.fit(X_train_tf, train_Y)\n",
    "print(\"Tuned hyperparameter : (Best params)\", grid.best_params_)\n",
    "print(\"Tuned hyperparameter : (Best score/accuracy)\", grid.best_score_)"
   ]
  },
  {
   "attachments": {},
   "cell_type": "markdown",
   "metadata": {},
   "source": [
    "# Logistic Regression Classifier"
   ]
  },
  {
   "cell_type": "code",
   "execution_count": 13,
   "metadata": {},
   "outputs": [
    {
     "name": "stdout",
     "output_type": "stream",
     "text": [
      "                precision    recall  f1-score   support\n",
      "\n",
      "Recent Relapse       0.71      0.69      0.70      1658\n",
      "   Not Relapse       0.70      0.73      0.72      1692\n",
      "\n",
      "      accuracy                           0.71      3350\n",
      "     macro avg       0.71      0.71      0.71      3350\n",
      "  weighted avg       0.71      0.71      0.71      3350\n",
      "\n",
      "\n",
      "Confusion matrix:\n",
      " True Pos \t False Pos\n",
      " False Neg\t True Neg\n",
      "[[1140  518]\n",
      " [ 456 1236]]\n",
      "0.7092537313432836\n"
     ]
    }
   ],
   "source": [
    "logistic_regression_classifier = LogisticRegression()\n",
    "logistic_regression_classifier.fit(X_train_tf, train_Y)\n",
    "\n",
    "#predicted y\n",
    "y_pred = logistic_regression_classifier.predict(X_test_tf)\n",
    "\n",
    "print(classification_report(test_Y, y_pred, target_names=['Recent Relapse', 'Not Relapse']))\n",
    "\n",
    "print('\\nConfusion matrix:\\n True Pos \\t False Pos\\n False Neg\\t True Neg')\n",
    "print(confusion_matrix(test_Y, y_pred))\n",
    "\n",
    "print(accuracy_score(test_Y, y_pred))"
   ]
  },
  {
   "cell_type": "code",
   "execution_count": 15,
   "metadata": {},
   "outputs": [
    {
     "name": "stderr",
     "output_type": "stream",
     "text": [
      "d:\\Python\\lib\\site-packages\\sklearn\\linear_model\\_logistic.py:1181: UserWarning: Setting penalty=None will ignore the C and l1_ratio parameters\n",
      "  warnings.warn(\n",
      "d:\\Python\\lib\\site-packages\\sklearn\\linear_model\\_logistic.py:1181: UserWarning: Setting penalty=None will ignore the C and l1_ratio parameters\n",
      "  warnings.warn(\n",
      "d:\\Python\\lib\\site-packages\\sklearn\\linear_model\\_logistic.py:1181: UserWarning: Setting penalty=None will ignore the C and l1_ratio parameters\n",
      "  warnings.warn(\n",
      "d:\\Python\\lib\\site-packages\\sklearn\\linear_model\\_logistic.py:1181: UserWarning: Setting penalty=None will ignore the C and l1_ratio parameters\n",
      "  warnings.warn(\n",
      "d:\\Python\\lib\\site-packages\\sklearn\\linear_model\\_logistic.py:1181: UserWarning: Setting penalty=None will ignore the C and l1_ratio parameters\n",
      "  warnings.warn(\n",
      "d:\\Python\\lib\\site-packages\\sklearn\\linear_model\\_logistic.py:1181: UserWarning: Setting penalty=None will ignore the C and l1_ratio parameters\n",
      "  warnings.warn(\n",
      "d:\\Python\\lib\\site-packages\\sklearn\\linear_model\\_logistic.py:1181: UserWarning: Setting penalty=None will ignore the C and l1_ratio parameters\n",
      "  warnings.warn(\n",
      "d:\\Python\\lib\\site-packages\\sklearn\\linear_model\\_logistic.py:1181: UserWarning: Setting penalty=None will ignore the C and l1_ratio parameters\n",
      "  warnings.warn(\n",
      "d:\\Python\\lib\\site-packages\\sklearn\\linear_model\\_logistic.py:1181: UserWarning: Setting penalty=None will ignore the C and l1_ratio parameters\n",
      "  warnings.warn(\n",
      "d:\\Python\\lib\\site-packages\\sklearn\\linear_model\\_logistic.py:1181: UserWarning: Setting penalty=None will ignore the C and l1_ratio parameters\n",
      "  warnings.warn(\n",
      "d:\\Python\\lib\\site-packages\\sklearn\\linear_model\\_logistic.py:1181: UserWarning: Setting penalty=None will ignore the C and l1_ratio parameters\n",
      "  warnings.warn(\n",
      "d:\\Python\\lib\\site-packages\\sklearn\\linear_model\\_logistic.py:1181: UserWarning: Setting penalty=None will ignore the C and l1_ratio parameters\n",
      "  warnings.warn(\n",
      "d:\\Python\\lib\\site-packages\\sklearn\\linear_model\\_logistic.py:1181: UserWarning: Setting penalty=None will ignore the C and l1_ratio parameters\n",
      "  warnings.warn(\n",
      "d:\\Python\\lib\\site-packages\\sklearn\\linear_model\\_logistic.py:1181: UserWarning: Setting penalty=None will ignore the C and l1_ratio parameters\n",
      "  warnings.warn(\n",
      "d:\\Python\\lib\\site-packages\\sklearn\\linear_model\\_logistic.py:1181: UserWarning: Setting penalty=None will ignore the C and l1_ratio parameters\n",
      "  warnings.warn(\n",
      "d:\\Python\\lib\\site-packages\\sklearn\\linear_model\\_logistic.py:1181: UserWarning: Setting penalty=None will ignore the C and l1_ratio parameters\n",
      "  warnings.warn(\n",
      "d:\\Python\\lib\\site-packages\\sklearn\\linear_model\\_logistic.py:1181: UserWarning: Setting penalty=None will ignore the C and l1_ratio parameters\n",
      "  warnings.warn(\n",
      "d:\\Python\\lib\\site-packages\\sklearn\\linear_model\\_logistic.py:1181: UserWarning: Setting penalty=None will ignore the C and l1_ratio parameters\n",
      "  warnings.warn(\n",
      "d:\\Python\\lib\\site-packages\\sklearn\\linear_model\\_logistic.py:1181: UserWarning: Setting penalty=None will ignore the C and l1_ratio parameters\n",
      "  warnings.warn(\n",
      "d:\\Python\\lib\\site-packages\\sklearn\\linear_model\\_logistic.py:1181: UserWarning: Setting penalty=None will ignore the C and l1_ratio parameters\n",
      "  warnings.warn(\n",
      "d:\\Python\\lib\\site-packages\\sklearn\\linear_model\\_logistic.py:1181: UserWarning: Setting penalty=None will ignore the C and l1_ratio parameters\n",
      "  warnings.warn(\n",
      "d:\\Python\\lib\\site-packages\\sklearn\\linear_model\\_logistic.py:1181: UserWarning: Setting penalty=None will ignore the C and l1_ratio parameters\n",
      "  warnings.warn(\n",
      "d:\\Python\\lib\\site-packages\\sklearn\\linear_model\\_logistic.py:1181: UserWarning: Setting penalty=None will ignore the C and l1_ratio parameters\n",
      "  warnings.warn(\n",
      "d:\\Python\\lib\\site-packages\\sklearn\\linear_model\\_logistic.py:1181: UserWarning: Setting penalty=None will ignore the C and l1_ratio parameters\n",
      "  warnings.warn(\n",
      "d:\\Python\\lib\\site-packages\\sklearn\\linear_model\\_logistic.py:1181: UserWarning: Setting penalty=None will ignore the C and l1_ratio parameters\n",
      "  warnings.warn(\n",
      "d:\\Python\\lib\\site-packages\\sklearn\\linear_model\\_logistic.py:1181: UserWarning: Setting penalty=None will ignore the C and l1_ratio parameters\n",
      "  warnings.warn(\n",
      "d:\\Python\\lib\\site-packages\\sklearn\\linear_model\\_logistic.py:1181: UserWarning: Setting penalty=None will ignore the C and l1_ratio parameters\n",
      "  warnings.warn(\n",
      "d:\\Python\\lib\\site-packages\\sklearn\\linear_model\\_logistic.py:1181: UserWarning: Setting penalty=None will ignore the C and l1_ratio parameters\n",
      "  warnings.warn(\n",
      "d:\\Python\\lib\\site-packages\\sklearn\\linear_model\\_logistic.py:1181: UserWarning: Setting penalty=None will ignore the C and l1_ratio parameters\n",
      "  warnings.warn(\n",
      "d:\\Python\\lib\\site-packages\\sklearn\\linear_model\\_logistic.py:1181: UserWarning: Setting penalty=None will ignore the C and l1_ratio parameters\n",
      "  warnings.warn(\n",
      "d:\\Python\\lib\\site-packages\\sklearn\\linear_model\\_logistic.py:1181: UserWarning: Setting penalty=None will ignore the C and l1_ratio parameters\n",
      "  warnings.warn(\n",
      "d:\\Python\\lib\\site-packages\\sklearn\\linear_model\\_logistic.py:1181: UserWarning: Setting penalty=None will ignore the C and l1_ratio parameters\n",
      "  warnings.warn(\n",
      "d:\\Python\\lib\\site-packages\\sklearn\\linear_model\\_logistic.py:1181: UserWarning: Setting penalty=None will ignore the C and l1_ratio parameters\n",
      "  warnings.warn(\n",
      "d:\\Python\\lib\\site-packages\\sklearn\\linear_model\\_logistic.py:1181: UserWarning: Setting penalty=None will ignore the C and l1_ratio parameters\n",
      "  warnings.warn(\n",
      "d:\\Python\\lib\\site-packages\\sklearn\\linear_model\\_logistic.py:1181: UserWarning: Setting penalty=None will ignore the C and l1_ratio parameters\n",
      "  warnings.warn(\n",
      "d:\\Python\\lib\\site-packages\\sklearn\\linear_model\\_logistic.py:1181: UserWarning: Setting penalty=None will ignore the C and l1_ratio parameters\n",
      "  warnings.warn(\n",
      "d:\\Python\\lib\\site-packages\\sklearn\\linear_model\\_logistic.py:1181: UserWarning: Setting penalty=None will ignore the C and l1_ratio parameters\n",
      "  warnings.warn(\n",
      "d:\\Python\\lib\\site-packages\\sklearn\\linear_model\\_logistic.py:1181: UserWarning: Setting penalty=None will ignore the C and l1_ratio parameters\n",
      "  warnings.warn(\n",
      "d:\\Python\\lib\\site-packages\\sklearn\\linear_model\\_logistic.py:1181: UserWarning: Setting penalty=None will ignore the C and l1_ratio parameters\n",
      "  warnings.warn(\n",
      "d:\\Python\\lib\\site-packages\\sklearn\\linear_model\\_logistic.py:1181: UserWarning: Setting penalty=None will ignore the C and l1_ratio parameters\n",
      "  warnings.warn(\n",
      "d:\\Python\\lib\\site-packages\\sklearn\\linear_model\\_logistic.py:1181: UserWarning: Setting penalty=None will ignore the C and l1_ratio parameters\n",
      "  warnings.warn(\n",
      "d:\\Python\\lib\\site-packages\\sklearn\\linear_model\\_logistic.py:1181: UserWarning: Setting penalty=None will ignore the C and l1_ratio parameters\n",
      "  warnings.warn(\n",
      "d:\\Python\\lib\\site-packages\\sklearn\\linear_model\\_logistic.py:1181: UserWarning: Setting penalty=None will ignore the C and l1_ratio parameters\n",
      "  warnings.warn(\n",
      "d:\\Python\\lib\\site-packages\\sklearn\\linear_model\\_logistic.py:1181: UserWarning: Setting penalty=None will ignore the C and l1_ratio parameters\n",
      "  warnings.warn(\n",
      "d:\\Python\\lib\\site-packages\\sklearn\\linear_model\\_logistic.py:1181: UserWarning: Setting penalty=None will ignore the C and l1_ratio parameters\n",
      "  warnings.warn(\n",
      "d:\\Python\\lib\\site-packages\\sklearn\\linear_model\\_logistic.py:1181: UserWarning: Setting penalty=None will ignore the C and l1_ratio parameters\n",
      "  warnings.warn(\n",
      "d:\\Python\\lib\\site-packages\\sklearn\\linear_model\\_logistic.py:1181: UserWarning: Setting penalty=None will ignore the C and l1_ratio parameters\n",
      "  warnings.warn(\n",
      "d:\\Python\\lib\\site-packages\\sklearn\\linear_model\\_logistic.py:1181: UserWarning: Setting penalty=None will ignore the C and l1_ratio parameters\n",
      "  warnings.warn(\n",
      "d:\\Python\\lib\\site-packages\\sklearn\\linear_model\\_logistic.py:1181: UserWarning: Setting penalty=None will ignore the C and l1_ratio parameters\n",
      "  warnings.warn(\n",
      "d:\\Python\\lib\\site-packages\\sklearn\\linear_model\\_logistic.py:1181: UserWarning: Setting penalty=None will ignore the C and l1_ratio parameters\n",
      "  warnings.warn(\n",
      "d:\\Python\\lib\\site-packages\\sklearn\\linear_model\\_logistic.py:1181: UserWarning: Setting penalty=None will ignore the C and l1_ratio parameters\n",
      "  warnings.warn(\n",
      "d:\\Python\\lib\\site-packages\\sklearn\\linear_model\\_logistic.py:1181: UserWarning: Setting penalty=None will ignore the C and l1_ratio parameters\n",
      "  warnings.warn(\n",
      "d:\\Python\\lib\\site-packages\\sklearn\\linear_model\\_logistic.py:1181: UserWarning: Setting penalty=None will ignore the C and l1_ratio parameters\n",
      "  warnings.warn(\n",
      "d:\\Python\\lib\\site-packages\\sklearn\\linear_model\\_logistic.py:1181: UserWarning: Setting penalty=None will ignore the C and l1_ratio parameters\n",
      "  warnings.warn(\n",
      "d:\\Python\\lib\\site-packages\\sklearn\\linear_model\\_logistic.py:1181: UserWarning: Setting penalty=None will ignore the C and l1_ratio parameters\n",
      "  warnings.warn(\n",
      "d:\\Python\\lib\\site-packages\\sklearn\\linear_model\\_logistic.py:1181: UserWarning: Setting penalty=None will ignore the C and l1_ratio parameters\n",
      "  warnings.warn(\n",
      "d:\\Python\\lib\\site-packages\\sklearn\\linear_model\\_logistic.py:1181: UserWarning: Setting penalty=None will ignore the C and l1_ratio parameters\n",
      "  warnings.warn(\n",
      "d:\\Python\\lib\\site-packages\\sklearn\\linear_model\\_logistic.py:1181: UserWarning: Setting penalty=None will ignore the C and l1_ratio parameters\n",
      "  warnings.warn(\n",
      "d:\\Python\\lib\\site-packages\\sklearn\\linear_model\\_logistic.py:1181: UserWarning: Setting penalty=None will ignore the C and l1_ratio parameters\n",
      "  warnings.warn(\n",
      "d:\\Python\\lib\\site-packages\\sklearn\\linear_model\\_logistic.py:1181: UserWarning: Setting penalty=None will ignore the C and l1_ratio parameters\n",
      "  warnings.warn(\n",
      "d:\\Python\\lib\\site-packages\\sklearn\\model_selection\\_validation.py:378: FitFailedWarning: \n",
      "210 fits failed out of a total of 360.\n",
      "The score on these train-test partitions for these parameters will be set to nan.\n",
      "If these failures are not expected, you can try to debug them by setting error_score='raise'.\n",
      "\n",
      "Below are more details about the failures:\n",
      "--------------------------------------------------------------------------------\n",
      "25 fits failed with the following error:\n",
      "Traceback (most recent call last):\n",
      "  File \"d:\\Python\\lib\\site-packages\\sklearn\\model_selection\\_validation.py\", line 686, in _fit_and_score\n",
      "    estimator.fit(X_train, y_train, **fit_params)\n",
      "  File \"d:\\Python\\lib\\site-packages\\sklearn\\linear_model\\_logistic.py\", line 1216, in fit\n",
      "    self.coef_, self.intercept_, self.n_iter_ = _fit_liblinear(\n",
      "  File \"d:\\Python\\lib\\site-packages\\sklearn\\svm\\_base.py\", line 1223, in _fit_liblinear\n",
      "    solver_type = _get_liblinear_solver_type(multi_class, penalty, loss, dual)\n",
      "  File \"d:\\Python\\lib\\site-packages\\sklearn\\svm\\_base.py\", line 1062, in _get_liblinear_solver_type\n",
      "    raise ValueError(\n",
      "ValueError: Unsupported set of arguments: The combination of penalty='None' and loss='logistic_regression' is not supported, Parameters: penalty=None, loss='logistic_regression', dual=False\n",
      "\n",
      "--------------------------------------------------------------------------------\n",
      "25 fits failed with the following error:\n",
      "Traceback (most recent call last):\n",
      "  File \"d:\\Python\\lib\\site-packages\\sklearn\\model_selection\\_validation.py\", line 686, in _fit_and_score\n",
      "    estimator.fit(X_train, y_train, **fit_params)\n",
      "  File \"d:\\Python\\lib\\site-packages\\sklearn\\linear_model\\_logistic.py\", line 1162, in fit\n",
      "    solver = _check_solver(self.solver, self.penalty, self.dual)\n",
      "  File \"d:\\Python\\lib\\site-packages\\sklearn\\linear_model\\_logistic.py\", line 54, in _check_solver\n",
      "    raise ValueError(\n",
      "ValueError: Solver newton-cg supports only 'l2' or 'none' penalties, got l1 penalty.\n",
      "\n",
      "--------------------------------------------------------------------------------\n",
      "25 fits failed with the following error:\n",
      "Traceback (most recent call last):\n",
      "  File \"d:\\Python\\lib\\site-packages\\sklearn\\model_selection\\_validation.py\", line 686, in _fit_and_score\n",
      "    estimator.fit(X_train, y_train, **fit_params)\n",
      "  File \"d:\\Python\\lib\\site-packages\\sklearn\\linear_model\\_logistic.py\", line 1162, in fit\n",
      "    solver = _check_solver(self.solver, self.penalty, self.dual)\n",
      "  File \"d:\\Python\\lib\\site-packages\\sklearn\\linear_model\\_logistic.py\", line 54, in _check_solver\n",
      "    raise ValueError(\n",
      "ValueError: Solver lbfgs supports only 'l2' or 'none' penalties, got l1 penalty.\n",
      "\n",
      "--------------------------------------------------------------------------------\n",
      "25 fits failed with the following error:\n",
      "Traceback (most recent call last):\n",
      "  File \"d:\\Python\\lib\\site-packages\\sklearn\\model_selection\\_validation.py\", line 686, in _fit_and_score\n",
      "    estimator.fit(X_train, y_train, **fit_params)\n",
      "  File \"d:\\Python\\lib\\site-packages\\sklearn\\linear_model\\_logistic.py\", line 1162, in fit\n",
      "    solver = _check_solver(self.solver, self.penalty, self.dual)\n",
      "  File \"d:\\Python\\lib\\site-packages\\sklearn\\linear_model\\_logistic.py\", line 54, in _check_solver\n",
      "    raise ValueError(\n",
      "ValueError: Solver newton-cg supports only 'l2' or 'none' penalties, got elasticnet penalty.\n",
      "\n",
      "--------------------------------------------------------------------------------\n",
      "25 fits failed with the following error:\n",
      "Traceback (most recent call last):\n",
      "  File \"d:\\Python\\lib\\site-packages\\sklearn\\model_selection\\_validation.py\", line 686, in _fit_and_score\n",
      "    estimator.fit(X_train, y_train, **fit_params)\n",
      "  File \"d:\\Python\\lib\\site-packages\\sklearn\\linear_model\\_logistic.py\", line 1162, in fit\n",
      "    solver = _check_solver(self.solver, self.penalty, self.dual)\n",
      "  File \"d:\\Python\\lib\\site-packages\\sklearn\\linear_model\\_logistic.py\", line 54, in _check_solver\n",
      "    raise ValueError(\n",
      "ValueError: Solver lbfgs supports only 'l2' or 'none' penalties, got elasticnet penalty.\n",
      "\n",
      "--------------------------------------------------------------------------------\n",
      "25 fits failed with the following error:\n",
      "Traceback (most recent call last):\n",
      "  File \"d:\\Python\\lib\\site-packages\\sklearn\\model_selection\\_validation.py\", line 686, in _fit_and_score\n",
      "    estimator.fit(X_train, y_train, **fit_params)\n",
      "  File \"d:\\Python\\lib\\site-packages\\sklearn\\linear_model\\_logistic.py\", line 1162, in fit\n",
      "    solver = _check_solver(self.solver, self.penalty, self.dual)\n",
      "  File \"d:\\Python\\lib\\site-packages\\sklearn\\linear_model\\_logistic.py\", line 64, in _check_solver\n",
      "    raise ValueError(\n",
      "ValueError: Only 'saga' solver supports elasticnet penalty, got solver=liblinear.\n",
      "\n",
      "--------------------------------------------------------------------------------\n",
      "60 fits failed with the following error:\n",
      "Traceback (most recent call last):\n",
      "  File \"d:\\Python\\lib\\site-packages\\sklearn\\model_selection\\_validation.py\", line 686, in _fit_and_score\n",
      "    estimator.fit(X_train, y_train, **fit_params)\n",
      "  File \"d:\\Python\\lib\\site-packages\\sklearn\\linear_model\\_logistic.py\", line 1160, in fit\n",
      "    self._validate_params()\n",
      "  File \"d:\\Python\\lib\\site-packages\\sklearn\\base.py\", line 570, in _validate_params\n",
      "    validate_parameter_constraints(\n",
      "  File \"d:\\Python\\lib\\site-packages\\sklearn\\utils\\_param_validation.py\", line 97, in validate_parameter_constraints\n",
      "    raise InvalidParameterError(\n",
      "sklearn.utils._param_validation.InvalidParameterError: The 'C' parameter of LogisticRegression must be a float in the range (0, inf]. Got 0.0 instead.\n",
      "\n",
      "  warnings.warn(some_fits_failed_message, FitFailedWarning)\n",
      "d:\\Python\\lib\\site-packages\\sklearn\\model_selection\\_search.py:953: UserWarning: One or more of the test scores are non-finite: [0.70484566 0.70176162        nan        nan        nan 0.67887392\n",
      " 0.70693655 0.70693655 0.70693655        nan        nan        nan\n",
      " 0.70484566 0.70176162        nan        nan        nan 0.55856184\n",
      " 0.7006669  0.7006669  0.70086595        nan        nan        nan\n",
      " 0.70484566 0.70176162        nan        nan        nan 0.4947756\n",
      " 0.54473105 0.54473105 0.54751761        nan        nan        nan\n",
      " 0.70484566 0.70176162        nan        nan        nan 0.4947756\n",
      " 0.5052244  0.5052244  0.5052244         nan        nan        nan\n",
      " 0.70484566 0.70176162        nan        nan        nan 0.4947756\n",
      " 0.5052244  0.5052244  0.5052244         nan        nan        nan\n",
      "        nan        nan        nan        nan        nan        nan\n",
      "        nan        nan        nan        nan        nan        nan]\n",
      "  warnings.warn(\n"
     ]
    },
    {
     "name": "stdout",
     "output_type": "stream",
     "text": [
      "Tuned hyperparameter : (Best params) {'C': 1.0, 'penalty': 'l2', 'solver': 'newton-cg'}\n",
      "Tuned hyperparameter : (Best score/accuracy) 0.7069365467337281\n"
     ]
    },
    {
     "data": {
      "text/plain": [
       "'\\n\\nmodel = LogisticRegression()\\nsolvers = [\\'newton-cg\\', \\'lbfgs\\', \\'liblinear\\']\\npenalty = [\\'l2\\']\\nc_values = [100, 10, 1.0, 0.1, 0.01]\\n# define grid search\\ngrid = dict(solver=solvers,penalty=penalty,C=c_values)\\n\\n\\nC = np.array([1,0.1,0.01,0.001,0.0001,0])\\nrand_params = {\\'C\\': C\\n            #,     \\n}\\nseed = 10\\niterations = 100\\n\\n\\nrsearch = RandomizedSearchCV(estimator=logistic_regression_classifier\\n                                , param_distributions=rand_params\\n                                , n_iter=iterations, random_state=seed)\\n\\n\\nrsearch.fit(X_train_tf, train_Y)\\nprint(\"Tuned hyperparameter : (Best params)\", rsearch.best_params_)\\nprint(\"Tuned hyperparameter : (Best score/accuracy)\", rsearch.best_score_)\\nprint(rsearch.best_estimator_.C)\\n'"
      ]
     },
     "execution_count": 15,
     "metadata": {},
     "output_type": "execute_result"
    }
   ],
   "source": [
    "#Hyperparameter Tuning\n",
    "C = np.array([1,0.1,0.01,0.001,0.0001,0])\n",
    "\n",
    "params ={\n",
    "    \"C\": C,\n",
    "    \"penalty\": [None, 'l1', 'l2', 'elasticnet'],\n",
    "    \"solver\" : ['newton-cg', 'lbfgs', 'liblinear']\n",
    "\n",
    "}\n",
    "grid = GridSearchCV(logistic_regression_classifier, params)\n",
    "\n",
    "grid.fit(X_train_tf, train_Y)\n",
    "print(\"Tuned hyperparameter : (Best params)\", grid.best_params_)\n",
    "print(\"Tuned hyperparameter : (Best score/accuracy)\", grid.best_score_)\n"
   ]
  },
  {
   "cell_type": "code",
   "execution_count": 14,
   "metadata": {},
   "outputs": [
    {
     "name": "stdout",
     "output_type": "stream",
     "text": [
      "                precision    recall  f1-score   support\n",
      "\n",
      "Recent Relapse       0.71      0.69      0.70      1658\n",
      "   Not Relapse       0.70      0.73      0.72      1692\n",
      "\n",
      "      accuracy                           0.71      3350\n",
      "     macro avg       0.71      0.71      0.71      3350\n",
      "  weighted avg       0.71      0.71      0.71      3350\n",
      "\n",
      "\n",
      "Confusion matrix:\n",
      " True Pos \t False Pos\n",
      " False Neg\t True Neg\n",
      "[[1140  518]\n",
      " [ 456 1236]]\n",
      "0.7092537313432836\n"
     ]
    }
   ],
   "source": [
    "#After Tuning\n",
    "logistic_regression_classifier = LogisticRegression(C=1.0, penalty= 'l2', solver= 'newton-cg')\n",
    "logistic_regression_classifier.fit(X_train_tf, train_Y)\n",
    "\n",
    "#predicted y\n",
    "y_pred = logistic_regression_classifier.predict(X_test_tf)\n",
    "\n",
    "print(classification_report(test_Y, y_pred, target_names=['Recent Relapse', 'Not Relapse']))\n",
    "\n",
    "print('\\nConfusion matrix:\\n True Pos \\t False Pos\\n False Neg\\t True Neg')\n",
    "print(confusion_matrix(test_Y, y_pred))\n",
    "\n",
    "print(accuracy_score(test_Y, y_pred))"
   ]
  },
  {
   "attachments": {},
   "cell_type": "markdown",
   "metadata": {},
   "source": [
    "# Support Vector Classifier"
   ]
  },
  {
   "cell_type": "code",
   "execution_count": 15,
   "metadata": {},
   "outputs": [
    {
     "name": "stdout",
     "output_type": "stream",
     "text": [
      "                precision    recall  f1-score   support\n",
      "\n",
      "Recent Relapse       0.71      0.69      0.70      1658\n",
      "   Not Relapse       0.70      0.73      0.72      1692\n",
      "\n",
      "      accuracy                           0.71      3350\n",
      "     macro avg       0.71      0.71      0.71      3350\n",
      "  weighted avg       0.71      0.71      0.71      3350\n",
      "\n",
      "\n",
      "Confusion matrix:\n",
      " True Pos \t False Pos\n",
      " False Neg\t True Neg\n",
      "[[1142  516]\n",
      " [ 462 1230]]\n",
      "0.7080597014925373\n"
     ]
    }
   ],
   "source": [
    "SVC_clf = LinearSVC()\n",
    "SVC_clf.fit(X_train_tf, train_Y)\n",
    "\n",
    "#predicted y\n",
    "y_pred = SVC_clf.predict(X_test_tf)\n",
    "\n",
    "print(classification_report(test_Y, y_pred, target_names=['Recent Relapse', 'Not Relapse']))\n",
    "\n",
    "print('\\nConfusion matrix:\\n True Pos \\t False Pos\\n False Neg\\t True Neg')\n",
    "print(confusion_matrix(test_Y, y_pred))\n",
    "\n",
    "print(accuracy_score(test_Y, y_pred))"
   ]
  },
  {
   "cell_type": "code",
   "execution_count": 19,
   "metadata": {},
   "outputs": [
    {
     "name": "stderr",
     "output_type": "stream",
     "text": [
      "d:\\Python\\lib\\site-packages\\sklearn\\svm\\_base.py:1244: ConvergenceWarning: Liblinear failed to converge, increase the number of iterations.\n",
      "  warnings.warn(\n"
     ]
    },
    {
     "name": "stdout",
     "output_type": "stream",
     "text": [
      "Tuned hyperparameter : (Best params) {'C': 1.0, 'loss': 'hinge', 'multi_class': 'ovr', 'penalty': 'l2'}\n",
      "Tuned hyperparameter : (Best score/accuracy) 0.7150955030719969\n"
     ]
    },
    {
     "name": "stderr",
     "output_type": "stream",
     "text": [
      "d:\\Python\\lib\\site-packages\\sklearn\\model_selection\\_validation.py:378: FitFailedWarning: \n",
      "215 fits failed out of a total of 320.\n",
      "The score on these train-test partitions for these parameters will be set to nan.\n",
      "If these failures are not expected, you can try to debug them by setting error_score='raise'.\n",
      "\n",
      "Below are more details about the failures:\n",
      "--------------------------------------------------------------------------------\n",
      "35 fits failed with the following error:\n",
      "Traceback (most recent call last):\n",
      "  File \"d:\\Python\\lib\\site-packages\\sklearn\\model_selection\\_validation.py\", line 686, in _fit_and_score\n",
      "    estimator.fit(X_train, y_train, **fit_params)\n",
      "  File \"d:\\Python\\lib\\site-packages\\sklearn\\svm\\_classes.py\", line 274, in fit\n",
      "    self.coef_, self.intercept_, n_iter_ = _fit_liblinear(\n",
      "  File \"d:\\Python\\lib\\site-packages\\sklearn\\svm\\_base.py\", line 1223, in _fit_liblinear\n",
      "    solver_type = _get_liblinear_solver_type(multi_class, penalty, loss, dual)\n",
      "  File \"d:\\Python\\lib\\site-packages\\sklearn\\svm\\_base.py\", line 1062, in _get_liblinear_solver_type\n",
      "    raise ValueError(\n",
      "ValueError: Unsupported set of arguments: The combination of penalty='l1' and loss='hinge' is not supported, Parameters: penalty='l1', loss='hinge', dual=True\n",
      "\n",
      "--------------------------------------------------------------------------------\n",
      "140 fits failed with the following error:\n",
      "Traceback (most recent call last):\n",
      "  File \"d:\\Python\\lib\\site-packages\\sklearn\\model_selection\\_validation.py\", line 686, in _fit_and_score\n",
      "    estimator.fit(X_train, y_train, **fit_params)\n",
      "  File \"d:\\Python\\lib\\site-packages\\sklearn\\svm\\_classes.py\", line 261, in fit\n",
      "    self._validate_params()\n",
      "  File \"d:\\Python\\lib\\site-packages\\sklearn\\base.py\", line 570, in _validate_params\n",
      "    validate_parameter_constraints(\n",
      "  File \"d:\\Python\\lib\\site-packages\\sklearn\\utils\\_param_validation.py\", line 97, in validate_parameter_constraints\n",
      "    raise InvalidParameterError(\n",
      "sklearn.utils._param_validation.InvalidParameterError: The 'loss' parameter of LinearSVC must be a str among {'hinge', 'squared_hinge'}. Got 'square-hinge' instead.\n",
      "\n",
      "--------------------------------------------------------------------------------\n",
      "40 fits failed with the following error:\n",
      "Traceback (most recent call last):\n",
      "  File \"d:\\Python\\lib\\site-packages\\sklearn\\model_selection\\_validation.py\", line 686, in _fit_and_score\n",
      "    estimator.fit(X_train, y_train, **fit_params)\n",
      "  File \"d:\\Python\\lib\\site-packages\\sklearn\\svm\\_classes.py\", line 261, in fit\n",
      "    self._validate_params()\n",
      "  File \"d:\\Python\\lib\\site-packages\\sklearn\\base.py\", line 570, in _validate_params\n",
      "    validate_parameter_constraints(\n",
      "  File \"d:\\Python\\lib\\site-packages\\sklearn\\utils\\_param_validation.py\", line 97, in validate_parameter_constraints\n",
      "    raise InvalidParameterError(\n",
      "sklearn.utils._param_validation.InvalidParameterError: The 'C' parameter of LinearSVC must be a float in the range (0.0, inf). Got 0.0 instead.\n",
      "\n",
      "  warnings.warn(some_fits_failed_message, FitFailedWarning)\n",
      "d:\\Python\\lib\\site-packages\\sklearn\\model_selection\\_search.py:953: UserWarning: One or more of the test scores are non-finite: [       nan 0.71111456 0.70882576 0.70882576        nan        nan\n",
      "        nan        nan        nan 0.71151252 0.71151262 0.71151262\n",
      "        nan        nan        nan        nan        nan 0.7150955\n",
      " 0.71449859 0.71449859        nan        nan        nan        nan\n",
      "        nan 0.58772058 0.69071536 0.69071536        nan        nan\n",
      "        nan        nan        nan 0.5052244  0.5052244  0.5052244\n",
      "        nan        nan        nan        nan        nan 0.5052244\n",
      " 0.5052244  0.5052244         nan        nan        nan        nan\n",
      "        nan 0.5052244  0.5052244  0.5052244         nan        nan\n",
      "        nan        nan        nan        nan        nan        nan\n",
      "        nan        nan        nan        nan]\n",
      "  warnings.warn(\n"
     ]
    }
   ],
   "source": [
    "#Hyperparameter Tuning \n",
    "C = np.array([50, 10,1,0.1,0.01,0.001,0.0001,0])\n",
    "\n",
    "params ={\n",
    "    \"C\": C,\n",
    "    \"penalty\" : ['l1','l2'],\n",
    "    \"loss\" : ['hinge', 'square-hinge'],\n",
    "    \"multi_class\" : ['ovr' ,'crammer_singer'],\n",
    "}\n",
    "grid = GridSearchCV(SVC_clf, params)\n",
    "\n",
    "grid.fit(X_train_tf, train_Y)\n",
    "print(\"Tuned hyperparameter : (Best params)\", grid.best_params_)\n",
    "print(\"Tuned hyperparameter : (Best score/accuracy)\", grid.best_score_)"
   ]
  },
  {
   "cell_type": "code",
   "execution_count": 16,
   "metadata": {},
   "outputs": [
    {
     "name": "stdout",
     "output_type": "stream",
     "text": [
      "                precision    recall  f1-score   support\n",
      "\n",
      "Recent Relapse       0.73      0.68      0.70      1658\n",
      "   Not Relapse       0.71      0.75      0.73      1692\n",
      "\n",
      "      accuracy                           0.72      3350\n",
      "     macro avg       0.72      0.72      0.72      3350\n",
      "  weighted avg       0.72      0.72      0.72      3350\n",
      "\n",
      "\n",
      "Confusion matrix:\n",
      " True Pos \t False Pos\n",
      " False Neg\t True Neg\n",
      "[[1132  526]\n",
      " [ 423 1269]]\n",
      "0.7167164179104477\n"
     ]
    }
   ],
   "source": [
    "#After Tuning\n",
    "SVC_clf = LinearSVC(C=1.0, loss= 'hinge', multi_class= 'ovr', penalty= 'l2')\n",
    "SVC_clf.fit(X_train_tf, train_Y)\n",
    "\n",
    "#predicted y\n",
    "y_pred = SVC_clf.predict(X_test_tf)\n",
    "\n",
    "print(classification_report(test_Y, y_pred, target_names=['Recent Relapse', 'Not Relapse']))\n",
    "\n",
    "print('\\nConfusion matrix:\\n True Pos \\t False Pos\\n False Neg\\t True Neg')\n",
    "print(confusion_matrix(test_Y, y_pred))\n",
    "\n",
    "print(accuracy_score(test_Y, y_pred))"
   ]
  },
  {
   "attachments": {},
   "cell_type": "markdown",
   "metadata": {},
   "source": [
    "# Decision Tree Classifier (Takes 30s, and poor performance)"
   ]
  },
  {
   "cell_type": "code",
   "execution_count": 12,
   "metadata": {},
   "outputs": [
    {
     "name": "stdout",
     "output_type": "stream",
     "text": [
      "                precision    recall  f1-score   support\n",
      "\n",
      "Recent Relapse       0.62      0.53      0.57      1658\n",
      "   Not Relapse       0.60      0.68      0.64      1692\n",
      "\n",
      "      accuracy                           0.61      3350\n",
      "     macro avg       0.61      0.60      0.60      3350\n",
      "  weighted avg       0.61      0.61      0.60      3350\n",
      "\n",
      "\n",
      "Confusion matrix:\n",
      " True Pos \t False Pos\n",
      " False Neg\t True Neg\n",
      "[[ 872  786]\n",
      " [ 537 1155]]\n",
      "0.6050746268656716\n"
     ]
    }
   ],
   "source": [
    "D_clf = DecisionTreeClassifier()\n",
    "D_clf.fit(X_train_tf, train_Y)\n",
    "\n",
    "#predicted y\n",
    "y_pred = D_clf.predict(X_test_tf)\n",
    "\n",
    "print(classification_report(test_Y, y_pred, target_names=['Recent Relapse', 'Not Relapse']))\n",
    "\n",
    "print('\\nConfusion matrix:\\n True Pos \\t False Pos\\n False Neg\\t True Neg')\n",
    "print(confusion_matrix(test_Y, y_pred))\n",
    "\n",
    "print(accuracy_score(test_Y, y_pred))"
   ]
  },
  {
   "attachments": {},
   "cell_type": "markdown",
   "metadata": {},
   "source": [
    "# Saving Models and Coefficients"
   ]
  },
  {
   "cell_type": "code",
   "execution_count": 27,
   "metadata": {},
   "outputs": [],
   "source": [
    "with open('NBmodel.pkl', 'wb') as file:\n",
    "    pickle.dump(naive_bayes_classifier, file)\n",
    "\n",
    "with open('LRmodel.pkl', 'wb') as file:\n",
    "    pickle.dump(logistic_regression_classifier, file)\n",
    "\n",
    "with open('SVCmodel.pkl', 'wb') as file:\n",
    "    pickle.dump(SVC_clf, file) #This is the chosen model"
   ]
  },
  {
   "cell_type": "code",
   "execution_count": 29,
   "metadata": {},
   "outputs": [],
   "source": [
    "#Getting the feature coefficient df \n",
    "columns : list[str] = tf_idf.get_feature_names_out()\n",
    "\n",
    "LRfeature_coefs = pd.DataFrame(zip(columns, np.transpose(logistic_regression_classifier.coef_)), columns=['features', 'coef'])"
   ]
  },
  {
   "cell_type": "code",
   "execution_count": 30,
   "metadata": {},
   "outputs": [],
   "source": [
    "#Getting the feature coefficient df \n",
    "columns : list[str] = tf_idf.get_feature_names_out()\n",
    "\n",
    "SVCfeature_coefs = pd.DataFrame(zip(columns, np.transpose(SVC_clf.coef_)), columns=['features', 'coef'])"
   ]
  },
  {
   "cell_type": "code",
   "execution_count": 32,
   "metadata": {},
   "outputs": [],
   "source": [
    "with open('LRfeature_coefs_df.pkl', 'wb') as file:\n",
    "    pickle.dump(LRfeature_coefs, file)\n",
    "\n",
    "with open('SVCfeature_coefs_df.pkl', 'wb') as file:\n",
    "    pickle.dump(SVCfeature_coefs, file)\n",
    "\n",
    "# NB does not have get coef attribute"
   ]
  },
  {
   "attachments": {},
   "cell_type": "markdown",
   "metadata": {},
   "source": [
    "# Doing a test prediction"
   ]
  },
  {
   "cell_type": "code",
   "execution_count": 17,
   "metadata": {},
   "outputs": [],
   "source": [
    "#doing a test prediction\n",
    "raw_txt = \"\"\"\n",
    "\n",
    "So, I'm over 2 months sober after a couple of years of daily drinking. On some days staying sober is easy, on others not so much. So today, I'm trying to remind myself about all the things I've rediscovered so far.\n",
    "\n",
    "Milk, damn whole milk in the evening instead of a drink, I forgot how much I like it. \n",
    "Chocolate, which I didn't have a taste for in the years I drank. \n",
    "Food in the evening has it's own flavour again instead of being muddled by the taste of alcohol. \n",
    "Food in the morning is no longer tasteless from my tastebuds being numb from alcohol/hangover. \n",
    "Waking up feeling less terrible (I'm disabled, I'll probably never wake up truly rested, but howly damn not being hungover really helps). \n",
    "Less overthinking &amp; less anxiety (howly shit I thought alcohol made my anxiety calmer, but no damn it made it way way way worse). \n",
    "No furiously checking my texts and social media in the morning to see if I said something rude/whatever whilst drunk. \n",
    "No more waking up in complete self-loathing. \n",
    "No more daily struggle of saying I'll quit whenever I was drunk, but counting if I had enough alcohol (or needed to go out to get more) as soon as I woke up the next day. \n",
    "Poops, they've gotten way better since quiting. \n",
    "Remembering episodes I watched the evening before. \n",
    "No more lying to friends and family (not all my family know, but all that I want to know for now do). \n",
    "Having found people who understand me, that are there for me and help me, and that I can be there for when they need it (this subreddit, the chat, meetings, and so on).\n",
    "\n",
    "\n",
    "Please share your own rediscoveries. It might give me and others some insight (and new things to try).\n",
    "\n",
    "IWNDWYT\n",
    "\n",
    "\n",
    "\"\"\"\n",
    "\n",
    "#Process whole raw_txt for overall TFIDF and CoEfs Score\n",
    "raw_txt = remove_nline(raw_txt)\n",
    "raw_txt =raw_txt.lower()\n",
    "\n",
    "#Remove ALL punctions\n",
    "whole_raw_txt = re.sub('[^a-zA-Z]', ' ', raw_txt)\n",
    "whole_raw_txt = whole_raw_txt.split()\n",
    "whole_raw_txt = [lemmatizer.lemmatize(word) for word in whole_raw_txt if not word in set(stopwords)]\n",
    "processed_whole_raw_txt =[' '.join(whole_raw_txt)]\n",
    "\n",
    "processed_whole_raw_txt_input = tf_idf.transform(processed_whole_raw_txt)"
   ]
  },
  {
   "cell_type": "code",
   "execution_count": 18,
   "metadata": {},
   "outputs": [],
   "source": [
    "#Preprocess text for analysis of each sentence\n",
    "\n",
    "# Remove most punctuations except !?,.'\n",
    "raw_txt = str(raw_txt).translate(str.maketrans('', '', '\"#$%&\\()*+-/:;<=>@[\\\\]^_`{|}~'))\n",
    "\n",
    "test = tokenize.sent_tokenize(str(raw_txt), language=\"english\")\n",
    "\n",
    "testsample_df = pd.DataFrame(test, columns= ['s_selftext'])\n",
    "\n",
    "testsample_df = testsample_df.explode('s_selftext')\n",
    "\n",
    "testsample_df['s_selftext']: list[str] = [re.sub('[^a-zA-Z]', ' ', x) for x in testsample_df['s_selftext']]\n",
    "\n",
    "testsample_df['lemmatized_text'] = testsample_df.s_selftext.apply(lemmatize_text)\n",
    "\n",
    "#Get subjectivity score\n",
    "testsample_df['subjectivity'] = [TextBlob(str(i)).sentiment.subjectivity for i in testsample_df['lemmatized_text']]\n",
    "XTest = tf_idf.transform(testsample_df['lemmatized_text'].values)\n",
    "YTest = logistic_regression_classifier.predict(XTest)\n",
    "testsample_df['prediction'] = YTest\n",
    "\n",
    "avgPredict = testsample_df[['prediction','subjectivity']].mean()"
   ]
  },
  {
   "attachments": {},
   "cell_type": "markdown",
   "metadata": {},
   "source": [
    "# Explore the test features with highest TF IDF scores"
   ]
  },
  {
   "cell_type": "code",
   "execution_count": 19,
   "metadata": {},
   "outputs": [
    {
     "name": "stdout",
     "output_type": "stream",
     "text": [
      "way way  -  0.12365111329339165\n",
      "way better since  -  0.061825556646695826\n",
      "way  -  0.11493200212252096\n",
      "waking  -  0.082655607359226\n",
      "taste  -  0.0884854898282989\n",
      "soon woke next  -  0.061825556646695826\n",
      "soon woke  -  0.061825556646695826\n",
      "share rediscovery  -  0.061825556646695826\n",
      "poop gotten  -  0.061825556646695826\n",
      "poop  -  0.061825556646695826\n",
      "others  -  0.0686687518175353\n",
      "morning  -  0.0677602984276762\n",
      "milk  -  0.10938498703705334\n",
      "le  -  0.10967030907122677\n",
      "instead  -  0.06944424117895334\n",
      "howly  -  0.11838591056038415\n",
      "help  -  0.06398078134716807\n",
      "food  -  0.0752707944369503\n",
      "family  -  0.06472301694462468\n",
      "evening  -  0.1276178034820504\n",
      "drunk  -  0.06479264492769325\n",
      "damn  -  0.13478048707156126\n",
      "daily  -  0.07607761213136943\n",
      "anxiety  -  0.07005784766070075\n",
      "alcohol  -  0.10944027482329738\n"
     ]
    }
   ],
   "source": [
    "#test_input = tf_idf.transform(raw_txt)\n",
    "feature_array = np.array(tf_idf.get_feature_names_out())\n",
    "#tfidf_sorting = np.argsort(test_input.toarray()).flatten()[::-1]\n",
    "tfidf_sorting = np.argsort(processed_whole_raw_txt_input.toarray()).flatten()[::-1]\n",
    "\n",
    "top_n = feature_array[tfidf_sorting][:25]\n",
    "\n",
    "for i in processed_whole_raw_txt_input.nonzero()[1]:\n",
    "    if i in tfidf_sorting[:25]:\n",
    "        print(feature_array[i], ' - ', processed_whole_raw_txt_input[0, i])"
   ]
  },
  {
   "cell_type": "code",
   "execution_count": 20,
   "metadata": {},
   "outputs": [
    {
     "name": "stdout",
     "output_type": "stream",
     "text": [
      "Top 10 feature coefficient\n"
     ]
    }
   ],
   "source": [
    "#\n",
    "#Getting the feature coefficient df \n",
    "columns : list[str] = tf_idf.get_feature_names_out()\n",
    "\n",
    "feature_coefs = pd.DataFrame(zip(columns, np.transpose(logistic_regression_classifier.coef_)), columns=['features', 'coef'])\n",
    "\n",
    "\n",
    "#words_input = tf_idf.transform(test_processed)\n",
    "feature_array = np.array(tf_idf.get_feature_names_out())\n",
    "tfidf_sorting = np.argsort(processed_whole_raw_txt_input.toarray()).flatten()[::-1]\n",
    "\n",
    "#idx = feature_coef.index[feature_coef['features']]\n",
    "idx = feature_coefs.index.tolist()\n",
    "feature_coefs['idx'] = idx\n",
    "print('Top 10 feature coefficient')\n",
    "target_idx = [processed_whole_raw_txt_input.nonzero()[1]]\n",
    "target_idx :list[str] = np.transpose(target_idx)\n",
    "input_coefs = pd.DataFrame(columns = feature_coefs.columns )\n",
    "for index, row in feature_coefs.iterrows():\n",
    "    if index in target_idx:\n",
    "        input_coefs = input_coefs.append({\n",
    "            'features': row['features'],\n",
    "            'coef': row['coef'],\n",
    "            'idx': row['idx'],\n",
    "            }, ignore_index =True)\n",
    "\n",
    "input_coefs = input_coefs.sort_values(by='coef', ascending=False)\n",
    "\n",
    "if len(input_coefs.index) < 25:\n",
    "    explanatory_words = input_coefs[['features','coef']][:]\n",
    "else:\n",
    "    explanatory_words = input_coefs[['features','coef']][:25]\n",
    "    #input_coefs.loc[:25, ['features','coef']]\n",
    "\n"
   ]
  },
  {
   "cell_type": "code",
   "execution_count": 21,
   "metadata": {},
   "outputs": [
    {
     "data": {
      "text/html": [
       "<div>\n",
       "<style scoped>\n",
       "    .dataframe tbody tr th:only-of-type {\n",
       "        vertical-align: middle;\n",
       "    }\n",
       "\n",
       "    .dataframe tbody tr th {\n",
       "        vertical-align: top;\n",
       "    }\n",
       "\n",
       "    .dataframe thead th {\n",
       "        text-align: right;\n",
       "    }\n",
       "</style>\n",
       "<table border=\"1\" class=\"dataframe\">\n",
       "  <thead>\n",
       "    <tr style=\"text-align: right;\">\n",
       "      <th></th>\n",
       "      <th>features</th>\n",
       "      <th>coef</th>\n",
       "    </tr>\n",
       "  </thead>\n",
       "  <tbody>\n",
       "    <tr>\n",
       "      <th>49</th>\n",
       "      <td>drinking</td>\n",
       "      <td>[5.501821492427032]</td>\n",
       "    </tr>\n",
       "    <tr>\n",
       "      <th>48</th>\n",
       "      <td>drink</td>\n",
       "      <td>[4.333893632482377]</td>\n",
       "    </tr>\n",
       "    <tr>\n",
       "      <th>0</th>\n",
       "      <td>alcohol</td>\n",
       "      <td>[3.9173885306694114]</td>\n",
       "    </tr>\n",
       "    <tr>\n",
       "      <th>51</th>\n",
       "      <td>drunk</td>\n",
       "      <td>[3.194857280301748]</td>\n",
       "    </tr>\n",
       "    <tr>\n",
       "      <th>43</th>\n",
       "      <td>day</td>\n",
       "      <td>[3.131389460639436]</td>\n",
       "    </tr>\n",
       "    <tr>\n",
       "      <th>67</th>\n",
       "      <td>feeling</td>\n",
       "      <td>[2.8371161112566203]</td>\n",
       "    </tr>\n",
       "    <tr>\n",
       "      <th>216</th>\n",
       "      <td>sober</td>\n",
       "      <td>[2.5572286562185003]</td>\n",
       "    </tr>\n",
       "    <tr>\n",
       "      <th>110</th>\n",
       "      <td>iwndwyt</td>\n",
       "      <td>[2.239296174586229]</td>\n",
       "    </tr>\n",
       "    <tr>\n",
       "      <th>251</th>\n",
       "      <td>today</td>\n",
       "      <td>[2.1500200134212712]</td>\n",
       "    </tr>\n",
       "    <tr>\n",
       "      <th>145</th>\n",
       "      <td>morning</td>\n",
       "      <td>[2.1372677247652825]</td>\n",
       "    </tr>\n",
       "    <tr>\n",
       "      <th>47</th>\n",
       "      <td>drank</td>\n",
       "      <td>[1.8390500965744785]</td>\n",
       "    </tr>\n",
       "    <tr>\n",
       "      <th>61</th>\n",
       "      <td>family</td>\n",
       "      <td>[1.6922803382615703]</td>\n",
       "    </tr>\n",
       "    <tr>\n",
       "      <th>142</th>\n",
       "      <td>month</td>\n",
       "      <td>[1.570756136398917]</td>\n",
       "    </tr>\n",
       "    <tr>\n",
       "      <th>127</th>\n",
       "      <td>made</td>\n",
       "      <td>[1.5693289158866037]</td>\n",
       "    </tr>\n",
       "    <tr>\n",
       "      <th>94</th>\n",
       "      <td>hangover</td>\n",
       "      <td>[1.4334214890179318]</td>\n",
       "    </tr>\n",
       "    <tr>\n",
       "      <th>188</th>\n",
       "      <td>really</td>\n",
       "      <td>[1.4196707617494035]</td>\n",
       "    </tr>\n",
       "    <tr>\n",
       "      <th>60</th>\n",
       "      <td>evening</td>\n",
       "      <td>[1.2278125104766826]</td>\n",
       "    </tr>\n",
       "    <tr>\n",
       "      <th>269</th>\n",
       "      <td>want</td>\n",
       "      <td>[1.1536812245829615]</td>\n",
       "    </tr>\n",
       "    <tr>\n",
       "      <th>66</th>\n",
       "      <td>far</td>\n",
       "      <td>[1.1073787995171043]</td>\n",
       "    </tr>\n",
       "    <tr>\n",
       "      <th>181</th>\n",
       "      <td>probably</td>\n",
       "      <td>[1.0014732005079057]</td>\n",
       "    </tr>\n",
       "    <tr>\n",
       "      <th>211</th>\n",
       "      <td>shit</td>\n",
       "      <td>[0.9946770525284215]</td>\n",
       "    </tr>\n",
       "    <tr>\n",
       "      <th>184</th>\n",
       "      <td>quit</td>\n",
       "      <td>[0.9521957236743945]</td>\n",
       "    </tr>\n",
       "    <tr>\n",
       "      <th>56</th>\n",
       "      <td>enough</td>\n",
       "      <td>[0.9331260041941193]</td>\n",
       "    </tr>\n",
       "    <tr>\n",
       "      <th>103</th>\n",
       "      <td>hungover</td>\n",
       "      <td>[0.885757619231592]</td>\n",
       "    </tr>\n",
       "    <tr>\n",
       "      <th>111</th>\n",
       "      <td>know</td>\n",
       "      <td>[0.7856976060089041]</td>\n",
       "    </tr>\n",
       "  </tbody>\n",
       "</table>\n",
       "</div>"
      ],
      "text/plain": [
       "     features                  coef\n",
       "49   drinking   [5.501821492427032]\n",
       "48      drink   [4.333893632482377]\n",
       "0     alcohol  [3.9173885306694114]\n",
       "51      drunk   [3.194857280301748]\n",
       "43        day   [3.131389460639436]\n",
       "67    feeling  [2.8371161112566203]\n",
       "216     sober  [2.5572286562185003]\n",
       "110   iwndwyt   [2.239296174586229]\n",
       "251     today  [2.1500200134212712]\n",
       "145   morning  [2.1372677247652825]\n",
       "47      drank  [1.8390500965744785]\n",
       "61     family  [1.6922803382615703]\n",
       "142     month   [1.570756136398917]\n",
       "127      made  [1.5693289158866037]\n",
       "94   hangover  [1.4334214890179318]\n",
       "188    really  [1.4196707617494035]\n",
       "60    evening  [1.2278125104766826]\n",
       "269      want  [1.1536812245829615]\n",
       "66        far  [1.1073787995171043]\n",
       "181  probably  [1.0014732005079057]\n",
       "211      shit  [0.9946770525284215]\n",
       "184      quit  [0.9521957236743945]\n",
       "56     enough  [0.9331260041941193]\n",
       "103  hungover   [0.885757619231592]\n",
       "111      know  [0.7856976060089041]"
      ]
     },
     "execution_count": 21,
     "metadata": {},
     "output_type": "execute_result"
    }
   ],
   "source": [
    "#input_coefs.loc[:25 ,['features','coef']]\n",
    "input_coefs[['features','coef']][:25]"
   ]
  },
  {
   "attachments": {},
   "cell_type": "markdown",
   "metadata": {},
   "source": [
    "# Prediction Visualisations"
   ]
  },
  {
   "cell_type": "code",
   "execution_count": 22,
   "metadata": {},
   "outputs": [
    {
     "data": {
      "image/png": "[encoded data removed]",
      "text/plain": [
       "<Figure size 432x288 with 1 Axes>"
      ]
     },
     "metadata": {
      "needs_background": "light"
     },
     "output_type": "display_data"
    },
    {
     "data": {
      "text/plain": [
       "\" \\ncanvas = FigureCanvas(fig)\\nimg = BytesIO()\\nfig.savefig(img)\\nimg.seek(0)\\n\\n#return send_file(img, mimetype='image/png)\\n\""
      ]
     },
     "execution_count": 22,
     "metadata": {},
     "output_type": "execute_result"
    }
   ],
   "source": [
    "fig, ax = plt.subplots()\n",
    "\n",
    "plt.plot(explanatory_words['features'], explanatory_words['coef'], color='blue')\n",
    "#plt.plot(X, Y2, color='red')\n",
    "\n",
    "plt.xlabel('Features')\n",
    "plt.ylabel('Coefficient')\n",
    "plt.title('Top 10 Highest Coefficient')\n",
    "plt.show()"
   ]
  },
  {
   "cell_type": "code",
   "execution_count": 23,
   "metadata": {},
   "outputs": [
    {
     "data": {
      "text/plain": [
       "49     drinking\n",
       "48        drink\n",
       "0       alcohol\n",
       "51        drunk\n",
       "43          day\n",
       "67      feeling\n",
       "216       sober\n",
       "110     iwndwyt\n",
       "251       today\n",
       "145     morning\n",
       "47        drank\n",
       "61       family\n",
       "142       month\n",
       "127        made\n",
       "94     hangover\n",
       "188      really\n",
       "60      evening\n",
       "269        want\n",
       "66          far\n",
       "181    probably\n",
       "211        shit\n",
       "184        quit\n",
       "56       enough\n",
       "103    hungover\n",
       "111        know\n",
       "Name: features, dtype: object"
      ]
     },
     "execution_count": 23,
     "metadata": {},
     "output_type": "execute_result"
    }
   ],
   "source": [
    "explanatory_words['features']"
   ]
  }
 ],
 "metadata": {
  "kernelspec": {
   "display_name": "Python 3",
   "language": "python",
   "name": "python3"
  },
  "language_info": {
   "codemirror_mode": {
    "name": "ipython",
    "version": 3
   },
   "file_extension": ".py",
   "mimetype": "text/x-python",
   "name": "python",
   "nbconvert_exporter": "python",
   "pygments_lexer": "ipython3",
   "version": "3.10.4"
  },
  "orig_nbformat": 4,
  "vscode": {
   "interpreter": {
    "hash": "2469a70536e4d2335a2ea8907942d0699c37342a371ac185bdb5b0aa6f073890"
   }
  }
 },
 "nbformat": 4,
 "nbformat_minor": 2
}
